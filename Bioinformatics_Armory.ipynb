{
 "cells": [
  {
   "cell_type": "markdown",
   "id": "dab466e7",
   "metadata": {},
   "source": [
    "#### 1.  Introduction to the Bioinformatics Armory\n",
    "\n",
    "Given: A DNA string s of length at most 1000 bp.\n",
    "\n",
    "Return: Four integers (separated by spaces) representing the respective number of times that the symbols 'A', 'C', 'G', and 'T' occur in s."
   ]
  },
  {
   "cell_type": "code",
   "execution_count": 1,
   "id": "ee4aed50",
   "metadata": {},
   "outputs": [],
   "source": [
    "from Bio.Seq import Seq"
   ]
  },
  {
   "cell_type": "code",
   "execution_count": 36,
   "id": "dade9d15",
   "metadata": {},
   "outputs": [
    {
     "name": "stdout",
     "output_type": "stream",
     "text": [
      "20 12 17 21\n"
     ]
    }
   ],
   "source": [
    "# Sample dataset\n",
    "my_seq = Seq(\"AGCTTTTCATTCTGACTGCAACGGGCAATATGTCTCTGTGTGGATTAAAAAAAGAGTGTCTGATAGCAGC\")\n",
    "count = []\n",
    "Nuc = ['A', 'C', 'G', 'T']\n",
    "for i in range(len(Nuc)):\n",
    "    c = my_seq.count(Nuc[i])\n",
    "    count.append(c)\n",
    "print (*count)\n",
    "    "
   ]
  },
  {
   "cell_type": "code",
   "execution_count": 37,
   "id": "3b22788d",
   "metadata": {},
   "outputs": [
    {
     "name": "stdout",
     "output_type": "stream",
     "text": [
      "254 255 219 229\n"
     ]
    }
   ],
   "source": [
    "# Actual dataset\n",
    "with open ('C:/Users/welcome/Downloads/rosalind_ini (1).txt', 'r') as f:\n",
    "    my_seq = f.read()\n",
    "\n",
    "    count = []\n",
    "    Nuc = ['A', 'C', 'G', 'T']\n",
    "    for i in range(len(Nuc)):\n",
    "        c = my_seq.count(Nuc[i])\n",
    "        count.append(c)\n",
    "    print (*count)"
   ]
  },
  {
   "cell_type": "markdown",
   "id": "c2b41264",
   "metadata": {
    "jp-MarkdownHeadingCollapsed": true
   },
   "source": [
    "#### 2. Gene bank introduction\n",
    "Given: Genus name and a date range  \n",
    "Result: Number of entries between the two dates"
   ]
  },
  {
   "cell_type": "code",
   "execution_count": 38,
   "id": "b7a79eb0",
   "metadata": {},
   "outputs": [],
   "source": [
    "from Bio import Entrez"
   ]
  },
  {
   "cell_type": "code",
   "execution_count": 103,
   "id": "3db49636",
   "metadata": {},
   "outputs": [
    {
     "data": {
      "text/plain": [
       "'7'"
      ]
     },
     "execution_count": 103,
     "metadata": {},
     "output_type": "execute_result"
    }
   ],
   "source": [
    "# Sample dataset\n",
    "\n",
    "Entrez.email = \"drkousi31@gmail.com\"\n",
    "Anthoxanthum=Entrez.esearch(db=\"nucleotide\", term = '\"Anthoxanthum\"[Organism] AND (\"2003/7/25\"[PDAT] : \"2005/12/27\"[PDAT])')\n",
    "Anthoxanthum_records = Entrez.read(Anthoxanthum)\n",
    "Anthoxanthum_records[\"Count\"]"
   ]
  },
  {
   "cell_type": "code",
   "execution_count": 108,
   "id": "a1f41354",
   "metadata": {},
   "outputs": [
    {
     "data": {
      "text/plain": [
       "'71'"
      ]
     },
     "execution_count": 108,
     "metadata": {},
     "output_type": "execute_result"
    }
   ],
   "source": [
    "# Actual dataset\n",
    "\n",
    "Entrez.email = \"drkousi31@gmail.com\"\n",
    "Matricaria=Entrez.esearch(db=\"nucleotide\", term = '\"Matricaria\"[Organism] AND (\"2006/06/10\"[PDAT] : \"2010/08/24\"[PDAT])')\n",
    "Matricaria_records = Entrez.read(Matricaria)\n",
    "Matricaria_records[\"Count\"]"
   ]
  },
  {
   "cell_type": "markdown",
   "id": "340d8ffb",
   "metadata": {},
   "source": [
    "#### 3. Data formats\n",
    "\n",
    "Given: A collection of 'n' GenBank entry IDs.  \n",
    "\n",
    "Return: The shortest of the strings associated with the IDs in FASTA format."
   ]
  },
  {
   "cell_type": "code",
   "execution_count": 194,
   "id": "7b241fa4",
   "metadata": {},
   "outputs": [
    {
     "name": "stdout",
     "output_type": "stream",
     "text": [
      "['FJ817486', 'JX069768', 'JX469983']\n",
      ">FJ817486.1 Malus hybrid cultivar flavanone 3-hydroxylase protein (F3H) mRNA, complete cds\n",
      "CGCGTATTTCGTTTGAGCCAATACCAAGTAGACAGAACCAACAAATTCGACACCAAATATGGCTCCTGCT\n",
      "ACTACGCTCACATCCATAGCGCATGAGAAAACCCTGCAACAAAAATTTGTCCGAGACGAAGACGAGCGTC\n",
      "CAAAGGTTGCCTACAACGACTTCAGCAACGAAATTCCGATCATCTCGCTTGCCGGGATCGATGAGGTGGA\n",
      "AGGCCGCCGGGGCGAGATTTGCAAGAAGATTGTAGCGGCTTGTGAAGACTGGGGTATTTTCCAGATTGTT\n",
      "GACCATGGGGTTGATGCTGAGCTCATATCGGAAATGACCGGTCTCGCTAGAGAGTTCTTTGCTTTGCCAT\n",
      "CGGAGGAGAAGCTCCGCTTCGACATGTCCGGTGGCAAAAAGGGTGGCTTCATCGTGTCCAGTCATTTACA\n",
      "GGGAGAAGCTGTGCAAGATTGGCGTGAAATTGTGACCTACTTTTCATATCCGATTCGTCACCGGGACTAT\n",
      "TCGAGGTGGCCAGACAAGCCTGAGGCCTGGAGGGAGGTGACAAAGAAGTACAGTGACGAGTTGATGGGGC\n",
      "TGGCATGCAAGCTCTTGGGCGTTTTATCAGAAGCCATGGGGTTGGATACAGAGGCATTGACAAAGGCATG\n",
      "TGTGGACATGGACCAAAAAGTCGTCGTGAATTTCTACCCAAAATGCCCTCAGCCCGACCTAACCCTTGGC\n",
      "CTCAAGCGCCATACCGACCCGGGCACAATTACCCTTCTGCTTCAAGACCAAGTTGGGGGCCTCCAGGCTA\n",
      "CTCGGGATGATGGGAAAACGTGGATCACCGTTCAACCAGTGGAAGGAGCTTTTGTGGTCAATCTTGGAGA\n",
      "TCATGGTCATCTTCTGAGCAATGGGAGGTTCAAGAATGCTGATCACCAAGCAGTGGTGAACTCAAACAGC\n",
      "AGCAGGCTGTCCATAGCCACATTCCAGAACCCAGCGCAAGAAGCAATAGTGTATCCACTCAGTGTGAGGG\n",
      "AGGGAGAGAAGCCGATTCTCGAGGCGCCAATCACCTACACCGAGATGTACAAGAAGAAGATGAGCAAGGA\n",
      "TCTTGAGCTCGCCAGGCTGAAAAAACTGGCCAAGGAACAGCAATCGCAGGACTTGGAGAAAGCCAAAGTG\n",
      "GATACAAAGCCAGTGGACGACATTTTTGCTTAGACTTTTCCAGTCACTTGAAAGCTCTTTGTGGAACTAT\n",
      "AGCTACTTGTACCTTTTCCTTCCACTTCTTGTACTCGTAACTTCTTTTTGGTGTGCTGGTGGCTTCCCCC\n",
      "CTAATCTGTTTAAGATCCGTGGTTGTCAAGGGCCCTTATATCCCATATTTAGTTTTTGTTCTTGAATTTT\n",
      "CATATCAGTTTCTTATCCTCCAACTTAAAAAAAAAAAAAA\n",
      "\n",
      ">JX069768.1 Momordica charantia carotenoid cleavage dioxygenase 1 (CCD1) mRNA, complete cds\n",
      "ATGGCGGAGGAGAAGCAGAAGCTCAATGGCGGAGTTGTTGACCGCTCGTTGGTGGAGGTCAATCCCAAGC\n",
      "CAAGCAAAGGCCTGGCTTCGAAGGCCACGGATTTGTTGGAGAAGCTGTTTGTGAAGCTCATGTATGATGC\n",
      "TTCAAACCCTCAGCATTATCTTTCCGGTAATTTCGCTCCGGTTCGCGATGAGACGCCTCCGATTACCGAT\n",
      "CTCCCTGTTAAAGGGTATCTTCCGGAATGCTTAAATGGAGAGTTTGTTAGGGTGGGACCAAATCCGAAGT\n",
      "TTAGCCCAGTTGCTGGCTATCACTGGTTTGACGGAGATGGCATGATCCATGGACTGCGCATTAAAGATGG\n",
      "AAAAGCAACATATGTTTCCCGTTATGTGAAGACATCTCGACTTAAACAAGAAGAATATTTTGGAGGTGCT\n",
      "AAATTCATGAAGATTGGTGATCTCAAAGGGTTCTTTGGGTTAATAATGGTCAATATGCAAATGCTGAGAG\n",
      "CAAAGTTGAAAGTGTTGGATGTTTCATATGGAACTGGGACAGGTAACACGGCTCTCATATATCATCATGG\n",
      "GAAGCTGCTTGCACTATCGGAGGCAGATAAACCTTATGTTATAAAAGTGTTGGAGGATGGAGACCTGCAA\n",
      "ACACTTGGTCTGCTGGATTATGACAAGAGATTAACGCACTCCTTCACTGCTCACCCAAAGGTTGACCCAG\n",
      "TGACTGGCGAAATGTTTACATTTGGTTATTCCCATTCACCACCATATGTTACTTACAGAGTTATTTCCAA\n",
      "GGATGGTCTCATGCATGACCCAATACCAATCACAATACCAAACCCGGTCATGATGCATGACTTCGCCATT\n",
      "ACTGAAAATTATGCAATTTTTATGGATCTTCCTTTATATTTTAAACCCAAGGAATTGGTCAAAGAAAATA\n",
      "AGTTAATTTTCACATTTGATGCTACTAAAAGAGCACGGTTTGGCGTGCTTCCAAGATATGCAAGAGATGA\n",
      "TTTGCTTATCCGATGGTTTGAGCTTCCAAATTGTTTTATATTTCATAATGCTAATGCCTGGGAGGAAGGA\n",
      "GATGAAGTAGTTTTGATTACTTGCCGTCTTGAGAACCCAGACTTGGACATGGTCAGTGGGTCTGTCAAGG\n",
      "AGAAGCTTGAGAACTTCTCAAATGAGCTGTATGAGATGAGATTCAATCTTAAATCTGGTCGAGCTTCACA\n",
      "GAAGAAACTATCAGAATCTGCTGTAGATTTTCCTAGAGTGAACGAAAGCTACACTGGCAGGAAACAACAA\n",
      "TATGTATATGGAACTATACTGGACAGCATTGCAAAAGTCACGGGGATTGCCAAATTTGATCTGAATGCTA\n",
      "AACCAGAAACTGGAAAAACAAAGATTGAAGTTGGAGGAAATGTTCAGGGCCTCTATGACCCCGGACCTGG\n",
      "TAGATTTGGTTCTGAAGCTATCTTTGTTCCTCGCATACCTGGCACCACTTCAGAAGAAGATGATGGCTAC\n",
      "TTAATATTCTTCGTACATGATGAGAACACCGGAAAATCGTCGGTGAATGTCATTGATGCAAAAACTATGT\n",
      "CAACTGAGCCTGTTGCAGTCGTTGAACTGCCACACAGAGTTCCATACGGGTTTCATGCCTTCTTTGTAAC\n",
      "AGAGGAGCAACTTCAAGAACAAGAAAGGCTCTGA\n",
      "\n",
      ">JX469983.1 Zea mays subsp. mays clone UT3343 G2-like transcription factor mRNA, partial cds\n",
      "ATGATGTATCATGCGAAGAATTTTTCTGTGCCCTTTGCTCCGCAGAGGGCACAGGATAATGAGCATGCAA\n",
      "GTAATATTGGAGGTATTGGTGGACCCAACATAAGCAACCCTGCTAATCCTGTAGGAAGTGGGAAACAACG\n",
      "GCTACGGTGGACATCGGATCTTCATAATCGCTTTGTGGATGCCATCGCCCAGCTTGGTGGACCAGACAGA\n",
      "GCTACACCTAAAGGGGTTCTCACTGTGATGGGTGTACCAGGGATCACAATTTATCATGTGAAGAGCCATC\n",
      "TGCAGAAGTATCGCCTTGCAAAGTATATACCCGACTCTCCTGCTGAAGGTTCCAAGGACGAAAAGAAAGA\n",
      "TTCGAGTGATTCCCTCTCGAACACGGATTCGGCACCAGGATTGCAAATCAATGAGGCACTAAAGATGCAA\n",
      "ATGGAGGTTCAGAAGCGACTACATGAGCAACTCGAGGTTCAAAGACAACTGCAACTAAGAATTGAAGCAC\n",
      "AAGGAAGATACTTGCAGATGATCATTGAGGAGCAACAAAAGCTTGGTGGATCAATTAAGGCTTCTGAGGA\n",
      "TCAGAAGCTTTCTGATTCACCTCCAAGCTTAGATGACTACCCAGAGAGCATGCAACCTTCTCCCAAGAAA\n",
      "CCAAGGATAGACGCATTATCACCAGATTCAGAGCGCGATACAACACAACCTGAATTCGAATCCCATTTGA\n",
      "TCGGTCCGTGGGATCACGGCATTGCATTCCCAGTGGAGGAGTTCAAAGCAGGCCCTGCTATGAGCAAGTC\n",
      "A\n",
      "\n",
      "\n"
     ]
    }
   ],
   "source": [
    "# Using efetch to obtain plain text records in FASTA format from NCBI\n",
    "\n",
    "from Bio import Entrez\n",
    "Entrez.email = \"drkousi31@gmail.com\"\n",
    "with open ('C:/Users/welcome/Downloads/rosalind_id.txt', 'r') as f:\n",
    "    \n",
    "    id_list_f = []    \n",
    "    for line in f:\n",
    "        lines = line.rstrip()\n",
    "        id_list_f.append(lines)\n",
    "print(id_list_f)\n",
    "    \n",
    "fasta_handle = Entrez.efetch(db='nucleotide', id=id_list_f, rettype='fasta')\n",
    "fasta_records = fasta_handle.read()\n",
    "print(fasta_records)"
   ]
  },
  {
   "cell_type": "code",
   "execution_count": 184,
   "id": "61d33e32",
   "metadata": {},
   "outputs": [],
   "source": [
    "id_list = ['FJ817486', 'JX069768', 'JX469983']"
   ]
  },
  {
   "cell_type": "code",
   "execution_count": 220,
   "id": "c5e97dad",
   "metadata": {},
   "outputs": [
    {
     "name": "stdout",
     "output_type": "stream",
     "text": [
      "JX469983.1\n"
     ]
    }
   ],
   "source": [
    "# Using SeqIO module to parse files\n",
    "\n",
    "from Bio import SeqIO\n",
    "Entrez.email = \"drkousi31@gmail.com\"\n",
    "fasta_seqio_handle = Entrez.efetch(db='nucleotide', id=id_list, rettype='fasta')\n",
    "fasta_seqio_records = list (SeqIO.parse(fasta_seqio_handle, 'fasta'))\n",
    "print(fasta_seqio_records[2].id)"
   ]
  },
  {
   "cell_type": "code",
   "execution_count": 234,
   "id": "57e5396a",
   "metadata": {},
   "outputs": [],
   "source": [
    "# sample dataset\n",
    "def find_shortest_seq(fasta_seqio_records):\n",
    "    \n",
    "    short_seq = len(fasta_seqio_records[0])\n",
    "    short_seq_id = ''\n",
    "    seq_index = ''\n",
    "    for i in range(len(fasta_seqio_records)):\n",
    "\n",
    "        current_sequence_id = fasta_seqio_records[i].id\n",
    "        current_sequence_length = len(fasta_seqio_records[i].seq)\n",
    "\n",
    "        if current_sequence_length < short_seq:\n",
    "            short_seq = current_sequence_length\n",
    "            short_seq_id=current_sequence_id\n",
    "            seq_index=i\n",
    "        else:\n",
    "            continue\n",
    "            \n",
    "    shortest_sequence = fasta_seqio_records[seq_index].format(\"fasta\")\n",
    "    SeqIO.write(fasta_seqio_records[seq_index], 'find_shortest_seq_output', 'fasta')"
   ]
  },
  {
   "cell_type": "code",
   "execution_count": 235,
   "id": "48d6a3d9",
   "metadata": {},
   "outputs": [],
   "source": [
    "find_shortest_seq(fasta_seqio_records)"
   ]
  },
  {
   "cell_type": "code",
   "execution_count": 238,
   "id": "a20b15e6",
   "metadata": {},
   "outputs": [],
   "source": [
    "# Actual dataset\n",
    "\n",
    "# Extract id list from the question\n",
    "\n",
    "id_list_f = []\n",
    "\n",
    "with open ('C:/Users/welcome/Downloads/rosalind_frmt.txt', 'r') as f:\n",
    "    for line in f:\n",
    "        id_f = line.rstrip()\n",
    "        id_list_f.append(id_f)\n",
    "\n",
    "# Use the id list obtained above to extract the fasta sequence from NCBI using efetch\n",
    "\n",
    "from Bio import Entrez\n",
    "from Bio import SeqIO\n",
    "\n",
    "Entrez.email = \"drkousi31@gmail.com\"\n",
    "handle = Entrez.efetch(db=\"nucleotide\", id = id_list_f, rettype = 'fasta')\n",
    "records = list(SeqIO.parse(handle, 'fasta'))\n",
    "\n",
    "# Find the shortest_sequence\n",
    "# This stores output in Rosalind folder\n",
    "find_shortest_seq(records)"
   ]
  },
  {
   "cell_type": "markdown",
   "id": "7b7e9be2",
   "metadata": {},
   "source": [
    "#### 4. Convert Fastq to fasta"
   ]
  },
  {
   "cell_type": "code",
   "execution_count": 15,
   "id": "9fe3d331",
   "metadata": {},
   "outputs": [
    {
     "data": {
      "text/plain": [
       "95"
      ]
     },
     "execution_count": 15,
     "metadata": {},
     "output_type": "execute_result"
    }
   ],
   "source": [
    "from Bio import SeqIO\n",
    "\n",
    "SeqIO.convert('/Users/kousalya/Downloads/rosalind_tfsq.txt', 'fastq', '/Users/kousalya/Documents/git/fa_seq.fasta', 'fasta' )\n"
   ]
  },
  {
   "cell_type": "markdown",
   "id": "f92cb3bb",
   "metadata": {},
   "source": [
    "#### 5. Read quality distribution\n",
    "\n",
    "Given: A quality threshold, along with FASTQ entries for multiple reads.  \n",
    "\n",
    "Return: The number of reads whose average quality is below the threshold."
   ]
  },
  {
   "cell_type": "code",
   "execution_count": 11,
   "id": "e45f3abf",
   "metadata": {},
   "outputs": [],
   "source": [
    "# function to find simple mean\n",
    "\n",
    "def avg_num(numbers):\n",
    "    \n",
    "    count = 0\n",
    "    total = 0\n",
    "\n",
    "    for num in numbers:\n",
    "        count +=1\n",
    "        total += num\n",
    "    return total/count"
   ]
  },
  {
   "cell_type": "code",
   "execution_count": 51,
   "id": "b77f41a3",
   "metadata": {},
   "outputs": [],
   "source": [
    "# function to find mean of read quality\n",
    "\n",
    "import math\n",
    "\n",
    "def aveQual(quals):\n",
    "    \n",
    "    '''\n",
    "    Receive the integer quality scores of a read and return the average quality for that read\n",
    "    First convert Phred scores to probabilities, calculate average error probability and convert average back to Phred scale\n",
    "    '''\n",
    "    return -10*math.log(sum([10**(q/-10) for q in quals]) / len(quals), 10)\n",
    "                                        "
   ]
  },
  {
   "cell_type": "code",
   "execution_count": 78,
   "id": "d7b259c5",
   "metadata": {},
   "outputs": [
    {
     "name": "stdout",
     "output_type": "stream",
     "text": [
      "59\n"
     ]
    }
   ],
   "source": [
    "# Actual dataset\n",
    "# Solution with mean of read quality\n",
    "\n",
    "from Bio import SeqIO\n",
    "sec_dic = {rec.id : aveQual(rec.letter_annotations[\"phred_quality\"]) for rec in SeqIO.parse(\"C:/Users/welcome/Downloads/rosalind_phre.txt\", 'fastq')}\n",
    "count = 0\n",
    "for k,v in sec_dic.items():\n",
    "    if v <= 23:\n",
    "        count += 1\n",
    "print(count)"
   ]
  },
  {
   "cell_type": "code",
   "execution_count": 81,
   "id": "082a3b06",
   "metadata": {},
   "outputs": [
    {
     "name": "stdout",
     "output_type": "stream",
     "text": [
      "42\n"
     ]
    }
   ],
   "source": [
    "# Actual dataset\n",
    "# Solution with simple mean (This works for rosalind dataset)\n",
    "\n",
    "from Bio import SeqIO\n",
    "sec_dic = {rec.id : avg_num(rec.letter_annotations[\"phred_quality\"]) for rec in SeqIO.parse(\"C:/Users/welcome/Downloads/rosalind_phre (1).txt\", 'fastq')}\n",
    "count = 0\n",
    "for k,v in sec_dic.items():\n",
    "    if v <= 26:\n",
    "        count += 1\n",
    "print(count)\n",
    "        "
   ]
  },
  {
   "cell_type": "markdown",
   "id": "bf3ccd8d",
   "metadata": {},
   "source": [
    "#### Problem 6 Read filtration by quality\n",
    "\n",
    "Given: A quality threshold value q, percentage of bases p, and set of FASTQ entries.\n",
    "\n",
    "Return: Number of reads in filtered FASTQ entries"
   ]
  },
  {
   "cell_type": "code",
   "execution_count": 50,
   "id": "5bd5829d",
   "metadata": {},
   "outputs": [
    {
     "name": "stdout",
     "output_type": "stream",
     "text": [
      "62\n"
     ]
    }
   ],
   "source": [
    "with open ('C:/Users/welcome/Downloads/rosalind_filt.txt', 'r') as f:\n",
    "    q, p = f.readline().split()\n",
    "    count = 0\n",
    "    \n",
    "    from Bio import SeqIO\n",
    "    sec_dic = {rec.id : rec.letter_annotations[\"phred_quality\"] for rec in SeqIO.parse(f, 'fastq')}\n",
    "  \n",
    "    for rec_id, ph in sec_dic.items():\n",
    "        good_nuc = 0\n",
    "        for i in ph:\n",
    "            if i >= int(q):\n",
    "                good_nuc += 1\n",
    "        if(good_nuc/len(ph))*100 >= int(p):\n",
    "            count+=1\n",
    "\n",
    "\n",
    "print(count)"
   ]
  },
  {
   "cell_type": "markdown",
   "id": "3fb37b62",
   "metadata": {},
   "source": [
    "#### Problem 7: Base Quality distribution\n",
    "\n",
    "Given: FASTQ file, quality threshold 'q'\n",
    "\n",
    "Return: Number of positions where mean base quality falls below given threshold"
   ]
  },
  {
   "cell_type": "code",
   "execution_count": 22,
   "id": "fe16e32d",
   "metadata": {},
   "outputs": [
    {
     "name": "stdout",
     "output_type": "stream",
     "text": [
      "65\n"
     ]
    }
   ],
   "source": [
    "with open ('C:/Users/welcome/Downloads/rosalind_bphr.txt', 'r') as f:\n",
    "    \n",
    "    q = f.readline().split()\n",
    "    quality_threshold = int(q[0])\n",
    "    \n",
    "    from Bio import SeqIO\n",
    "    \n",
    "    \"\"\" Form a dictionary with rec_id and letter_annotations that posses phred quality \"\"\"\n",
    "    \n",
    "    sec_dic = {rec.id : rec.letter_annotations[\"phred_quality\"] for rec in SeqIO.parse(f, 'fastq')}\n",
    "    \n",
    "    \"\"\" Get the first dic key and find the length of the sequence/base pairs (stored as dic values) \"\"\"\n",
    "    \n",
    "    sec_key = list(sec_dic.keys())[0]\n",
    "    sec_length = len(sec_dic[sec_key])\n",
    "    \n",
    "    \n",
    "    avg_qual_each_position = []\n",
    "    no_of_low_quality_positions = 0\n",
    "    \n",
    "    for i in (range(sec_length)):\n",
    "        total=0\n",
    "        for rec_id, phred in sec_dic.items():\n",
    "            total = total+phred[i]\n",
    "            avg = total/(len(sec_dic))\n",
    "        if avg < quality_threshold:\n",
    "                no_of_low_quality_positions += 1\n",
    "    \n",
    "    print(no_of_low_quality_positions)\n",
    "    "
   ]
  },
  {
   "cell_type": "markdown",
   "id": "ecb11d2e",
   "metadata": {},
   "source": [
    "#### Problem 8: Base filtration by quality\n",
    "\n",
    "Given: FASTQ file, quality cut-off value q Phred33 quality score assumed.\n",
    "\n",
    "Return: FASTQ file trimmed from the both ends (removed leading and trailing bases with quality lower than q\n",
    ")"
   ]
  },
  {
   "cell_type": "code",
   "execution_count": 51,
   "id": "219880ba",
   "metadata": {},
   "outputs": [
    {
     "data": {
      "text/plain": [
       "82"
      ]
     },
     "execution_count": 51,
     "metadata": {},
     "output_type": "execute_result"
    }
   ],
   "source": [
    "from Bio import SeqIO\n",
    "trimmed_seq = []\n",
    "for rec in SeqIO.parse('C:/Users/welcome/Downloads/rosalind_bfil (6).txt', 'fastq'):\n",
    "    \n",
    "    \"\"\" Store read qualitites \"\"\"\n",
    "    \n",
    "    read_quals = rec.letter_annotations['phred_quality']\n",
    "    \n",
    "    \"\"\" Check the read qualities from start of seq and store the index where the read quality is higher than the threshold \"\"\"\n",
    "    \n",
    "    for i, q in enumerate(read_quals):\n",
    "        if q >= 23:\n",
    "            k=i\n",
    "            break\n",
    "            \n",
    "    \"\"\" Check the read qualities from end of seq and store the index (as negative) where the read quality is higher than threshold \"\"\"\n",
    "            \n",
    "    for i,q in enumerate(reversed(read_quals)):\n",
    "        if q >= 23:\n",
    "            l = -i\n",
    "            break\n",
    "    \n",
    "    trimmed_seq.append(rec[k:l])\n",
    "\n",
    "SeqIO.write(trimmed_seq, 'C:Desktop/Python_corey_tutorial/Rosalind/trimmed_ans-23', 'fastq')"
   ]
  },
  {
   "cell_type": "markdown",
   "id": "7f2232c1",
   "metadata": {},
   "source": [
    "#### Problem 9: Protein Translation\n",
    "\n",
    "Given: A DNA string 's' of length at most 10 kbp, and a protein string translated by s\n",
    "\n",
    "Return: The index of the genetic code variant that was used for translation. (If multiple solutions exist, you may return any one.)"
   ]
  },
  {
   "cell_type": "code",
   "execution_count": 38,
   "id": "b8b4f5e2",
   "metadata": {},
   "outputs": [
    {
     "name": "stdout",
     "output_type": "stream",
     "text": [
      "MAMAPRTEINSTRING* 17\n"
     ]
    }
   ],
   "source": [
    "from Bio.Seq import translate\n",
    "\n",
    "coding_dna = 'ATGGCCATGGCGCCCAGAACTGAGATCAATAGTACCCGTATTAACGGGTGA'\n",
    "protein = translate(coding_dna)\n",
    "print(protein, len(protein))"
   ]
  },
  {
   "cell_type": "code",
   "execution_count": 39,
   "id": "48a213f5",
   "metadata": {},
   "outputs": [
    {
     "name": "stdout",
     "output_type": "stream",
     "text": [
      "[1, 6, 11, 12, 16, 22, 23, 26]\n"
     ]
    }
   ],
   "source": [
    "dna = 'ATGGCCATGGCGCCCAGAACTGAGATCAATAGTACCCGTATTAACGGGTGA'\n",
    "protein = 'MAMAPRTEINSTRING'\n",
    "table_ids = [1,2,3,4,5,6,9,10,11,12,13,14,16,21,22,23,24,25,26]\n",
    "    \n",
    "table_id_used = []\n",
    "    \n",
    "for t in table_ids:\n",
    "    if translate(dna, table=t, to_stop=True) == protein:\n",
    "        table_id_used.append(t)\n",
    "print(table_id_used)"
   ]
  },
  {
   "cell_type": "code",
   "execution_count": 40,
   "id": "58704892",
   "metadata": {},
   "outputs": [
    {
     "name": "stdout",
     "output_type": "stream",
     "text": [
      "[1, 4, 10, 11, 23, 25]\n"
     ]
    }
   ],
   "source": [
    "with open ('C:/Users/welcome/Downloads/rosalind_ptra_3.txt', 'r') as f:\n",
    "    dna = f.readline().rstrip()\n",
    "    protein = f.readline().rstrip()\n",
    "    table_ids = [1,2,3,4,5,6,9,10,11,12,13,14,16,21,22,23,24,25,26]\n",
    "    \n",
    "    table_id_used = []\n",
    "    \n",
    "    for t in table_ids:\n",
    "        if translate(dna, table=t, to_stop=True) == protein:\n",
    "            table_id_used.append(t)\n",
    "    print(table_id_used)\n",
    "        "
   ]
  },
  {
   "cell_type": "markdown",
   "id": "e89f724e",
   "metadata": {},
   "source": [
    "#### Problem 10: Complementing DNA strand\n",
    "\n",
    "Given: A collection of n (n≤10) DNA strings.  \n",
    "\n",
    "Return: The number of given strings that match their reverse complements.  "
   ]
  },
  {
   "cell_type": "code",
   "execution_count": 36,
   "id": "ac66aabb",
   "metadata": {},
   "outputs": [
    {
     "name": "stdout",
     "output_type": "stream",
     "text": [
      "1\n"
     ]
    }
   ],
   "source": [
    "record = []\n",
    "reverse_record = []\n",
    "for rec in SeqIO.parse('C:/Users/welcome/Desktop/Python_corey_tutorial/Rosalind/complementing_DNA_strand_qstn.txt', 'fasta'):\n",
    "    record.append(rec)\n",
    "    rc = rec.reverse_complement()\n",
    "    reverse_record.append(rc)\n",
    "\n",
    "count = 0\n",
    "for i in range(len(record)):\n",
    "    if record[i].seq == reverse_record[i].seq:\n",
    "        count += 1\n",
    "        \n",
    "print(count)"
   ]
  },
  {
   "cell_type": "code",
   "execution_count": 37,
   "id": "7ff8e8b3",
   "metadata": {},
   "outputs": [
    {
     "name": "stdout",
     "output_type": "stream",
     "text": [
      "6\n"
     ]
    }
   ],
   "source": [
    "from Bio import SeqIO\n",
    "\n",
    "count = 0\n",
    "for rec in SeqIO.parse('C:/Users/welcome/Downloads/rosalind_rvco_(1).txt', 'fasta'):\n",
    "    rc = rec.reverse_complement()\n",
    "    \n",
    "    if rec.seq == rc.seq:\n",
    "        count += 1\n",
    "        \n",
    "print(count)"
   ]
  },
  {
   "cell_type": "markdown",
   "id": "fd98de5d",
   "metadata": {},
   "source": [
    "#### Problem 11: Finding genes with ORFs\n",
    "\n",
    "Given: A DNA string s of length at most 1 kbp.  \n",
    "\n",
    "Return: The longest protein string that can be translated from an ORF of s\n",
    ". If more than one protein string of maximum length exists, then you may output any solution."
   ]
  },
  {
   "cell_type": "code",
   "execution_count": 23,
   "id": "52dbb1cb",
   "metadata": {},
   "outputs": [],
   "source": [
    "# Prepare a dictionary for the codons\n",
    "\n",
    "DNA_Codons = {\n",
    "    # 'M' - START, '_' - STOP\n",
    "    \"GCT\": \"A\", \"GCC\": \"A\", \"GCA\": \"A\", \"GCG\": \"A\",\n",
    "    \"TGT\": \"C\", \"TGC\": \"C\",\n",
    "    \"GAT\": \"D\", \"GAC\": \"D\",\n",
    "    \"GAA\": \"E\", \"GAG\": \"E\",\n",
    "    \"TTT\": \"F\", \"TTC\": \"F\",\n",
    "    \"GGT\": \"G\", \"GGC\": \"G\", \"GGA\": \"G\", \"GGG\": \"G\",\n",
    "    \"CAT\": \"H\", \"CAC\": \"H\",\n",
    "    \"ATA\": \"I\", \"ATT\": \"I\", \"ATC\": \"I\",\n",
    "    \"AAA\": \"K\", \"AAG\": \"K\",\n",
    "    \"TTA\": \"L\", \"TTG\": \"L\", \"CTT\": \"L\", \"CTC\": \"L\", \"CTA\": \"L\", \"CTG\": \"L\",\n",
    "    \"ATG\": \"M\",\n",
    "    \"AAT\": \"N\", \"AAC\": \"N\",\n",
    "    \"CCT\": \"P\", \"CCC\": \"P\", \"CCA\": \"P\", \"CCG\": \"P\",\n",
    "    \"CAA\": \"Q\", \"CAG\": \"Q\",\n",
    "    \"CGT\": \"R\", \"CGC\": \"R\", \"CGA\": \"R\", \"CGG\": \"R\", \"AGA\": \"R\", \"AGG\": \"R\",\n",
    "    \"TCT\": \"S\", \"TCC\": \"S\", \"TCA\": \"S\", \"TCG\": \"S\", \"AGT\": \"S\", \"AGC\": \"S\",\n",
    "    \"ACT\": \"T\", \"ACC\": \"T\", \"ACA\": \"T\", \"ACG\": \"T\",\n",
    "    \"GTT\": \"V\", \"GTC\": \"V\", \"GTA\": \"V\", \"GTG\": \"V\",\n",
    "    \"TGG\": \"W\",\n",
    "    \"TAT\": \"Y\", \"TAC\": \"Y\",\n",
    "    \"TAA\": \"_\", \"TAG\": \"_\", \"TGA\": \"_\"\n",
    "}"
   ]
  },
  {
   "cell_type": "code",
   "execution_count": 29,
   "id": "dc223899",
   "metadata": {},
   "outputs": [],
   "source": [
    "# Function for reverse_complement\n",
    "\n",
    "def reverse_complement(s):\n",
    "    complement_dic = {'A':'T', 'G': 'C', 'T': 'A', 'C':'G'}\n",
    "    return (''.join([complement_dic[nuc] for nuc in s])[::-1])"
   ]
  },
  {
   "cell_type": "code",
   "execution_count": 24,
   "id": "c4df4677",
   "metadata": {},
   "outputs": [],
   "source": [
    "# Function to translate DNA\n",
    "\n",
    "def translate_DNA(dna, k=0):\n",
    "    \n",
    "    j = k+3\n",
    "    amino_acids = []\n",
    "    for i in range(len(dna)-2):\n",
    "        codon =  DNA_Codons[dna[k:j]]\n",
    "        amino_acids.append(codon)\n",
    "        if j < len(dna)-2:\n",
    "            k += 3\n",
    "            j += 3\n",
    "        else:\n",
    "            break\n",
    "    return(amino_acids)"
   ]
  },
  {
   "cell_type": "code",
   "execution_count": 25,
   "id": "dc006ebe",
   "metadata": {},
   "outputs": [],
   "source": [
    "def generate_reading_frames(dna):\n",
    "    \n",
    "    frames = []\n",
    "    \n",
    "    frames.append(translate_DNA(dna, k=0))\n",
    "    frames.append(translate_DNA(dna, k=1))\n",
    "    frames.append(translate_DNA(dna, k=2))\n",
    "    frames.append(translate_DNA((reverse_complement(dna)), k=0))\n",
    "    frames.append(translate_DNA((reverse_complement(dna)), k=1))\n",
    "    frames.append(translate_DNA((reverse_complement(dna)), k=2))\n",
    "    \n",
    "    return frames"
   ]
  },
  {
   "cell_type": "code",
   "execution_count": 26,
   "id": "2a9ae1cb",
   "metadata": {},
   "outputs": [],
   "source": [
    "def find_ORF(list_aa):\n",
    "    \n",
    "    current_prot = []\n",
    "    proteins = []\n",
    "    \n",
    "    for aa in list_aa:\n",
    "\n",
    "        if aa == \"_\":\n",
    "            if current_prot:\n",
    "                for p in current_prot:\n",
    "                    proteins.append(p)\n",
    "                    current_prot = []\n",
    "\n",
    "        else:\n",
    "            if aa == \"M\":\n",
    "                current_prot.append(\"\") # append current_prot with - \"\" symbol\n",
    "                \n",
    "        \n",
    "        for i in range(len(current_prot)): # mini forloop runs here to append aminoacids (this also stores protein inside protein)\n",
    "            current_prot[i]+=aa            # at the place of \"\" add 'M'\n",
    "    \n",
    "    return proteins"
   ]
  },
  {
   "cell_type": "code",
   "execution_count": 34,
   "id": "c2a3ccfe",
   "metadata": {},
   "outputs": [
    {
     "name": "stdout",
     "output_type": "stream",
     "text": [
      " 'MLLGSFRLIPKETLIQVAGSSPCNLS'\n"
     ]
    }
   ],
   "source": [
    "# Sample dataset\n",
    "orf_list = []\n",
    "for frame in generate_reading_frames('AGCCATGTAGCTAACTCAGGTTACATGGGGATGACCCCGCGACTTGGATTAGAGTCTCTTTTGGAATAAGCCTGAATGATCCGAGTAGCATCTCAG'):\n",
    "\n",
    "    orf = find_ORF(frame)\n",
    "    orf_list.append(orf)\n",
    "\n",
    "    \n",
    "orf_str = str(orf_list).replace('[','').replace(']','')\n",
    "\n",
    "orf_list = orf_str.split(',')\n",
    "sorted_orf_list = sorted(orf_list, key=len,reverse=True)\n",
    "print(sorted_orf_list[0])\n"
   ]
  },
  {
   "cell_type": "code",
   "execution_count": 35,
   "id": "ae8b2235",
   "metadata": {},
   "outputs": [
    {
     "name": "stdout",
     "output_type": "stream",
     "text": [
      " 'MHGVYGYSQAASTEFIDQRYFCNHSGVEVYPISQPLLAMIFITSYVAQGPY'\n"
     ]
    }
   ],
   "source": [
    "# Actual dataset\n",
    "with open ('C:/Users/welcome/Downloads/rosalind_orfr.txt', 'r') as f:\n",
    "    dna = f.read().rstrip()\n",
    "\n",
    "    orf_list = []\n",
    "    for frame in generate_reading_frames(dna):\n",
    "\n",
    "        orf = find_ORF(frame)\n",
    "        orf_list.append(orf)\n",
    "\n",
    "\n",
    "    orf_str = str(orf_list).replace('[','').replace(']','')\n",
    "\n",
    "    orf_list = orf_str.split(',')\n",
    "    sorted_orf_list = sorted(orf_list, key=len,reverse=True)\n",
    "    print(sorted_orf_list[0])\n"
   ]
  }
 ],
 "metadata": {
  "kernelspec": {
   "display_name": "Python 3 (ipykernel)",
   "language": "python",
   "name": "python3"
  },
  "language_info": {
   "codemirror_mode": {
    "name": "ipython",
    "version": 3
   },
   "file_extension": ".py",
   "mimetype": "text/x-python",
   "name": "python",
   "nbconvert_exporter": "python",
   "pygments_lexer": "ipython3",
   "version": "3.12.2"
  }
 },
 "nbformat": 4,
 "nbformat_minor": 5
}
